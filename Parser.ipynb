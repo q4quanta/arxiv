{
 "cells": [
  {
   "cell_type": "markdown",
   "metadata": {},
   "source": [
    "## ArxiveAPI"
   ]
  },
  {
   "cell_type": "code",
   "execution_count": 6,
   "metadata": {},
   "outputs": [],
   "source": [
    "import re\n",
    "import itertools\n",
    "import json\n",
    "import sys\n",
    "import os\n",
    "import time\n",
    "import traceback\n",
    "from lxml import etree\n",
    "import pandas as pd\n",
    "import glob\n",
    "import numpy as np"
   ]
  },
  {
   "cell_type": "code",
   "execution_count": 25,
   "metadata": {},
   "outputs": [],
   "source": [
    " import xml.etree.ElementTree as ET"
   ]
  },
  {
   "cell_type": "code",
   "execution_count": 29,
   "metadata": {},
   "outputs": [],
   "source": [
    "#!pip install feedparser"
   ]
  },
  {
   "cell_type": "markdown",
   "metadata": {},
   "source": [
    "### Systematic Parsing"
   ]
  },
  {
   "cell_type": "markdown",
   "metadata": {},
   "source": [
    "python_arXiv_parsing_example.py\n",
    "\n",
    "This sample script illustrates a basic ```arXiv api``` call\n",
    "followed by parsing of the results using the \n",
    "feedparser python module.\n",
    "\n",
    "Please see the documentation at \n",
    "http://export.arxiv.org/api_help/docs/user-manual.html\n",
    "for more information, or email the arXiv api \n",
    "mailing list at arxiv-api@googlegroups.com.\n",
    "\n",
    "urllib is included in the standard python library.\n",
    "feedparser can be downloaded from http://feedparser.org/ .\n",
    "\n",
    "*Author: Julius B. Lucks*\n",
    "\n",
    "This is free software.  Feel free to do what you want\n",
    "with it, but please play nice with the arXiv API!"
   ]
  },
  {
   "cell_type": "markdown",
   "metadata": {},
   "source": [
    "https://static.arxiv.org/static/arxiv.marxdown/0.1/help/api/examples/python_arXiv_parsing_example.txt"
   ]
  },
  {
   "cell_type": "code",
   "execution_count": 83,
   "metadata": {},
   "outputs": [],
   "source": [
    "import urllib\n",
    "import feedparser"
   ]
  },
  {
   "cell_type": "code",
   "execution_count": 84,
   "metadata": {},
   "outputs": [],
   "source": [
    "# Base api query url\n",
    "base_url = 'http://export.arxiv.org/api/query?';\n",
    "\n",
    "# Search parameters\n",
    "search_query = 'all:quantum' # search for electron in all fields\n",
    "start = 0                     # retreive the first 5 results\n",
    "max_results = 5000\n",
    "\n",
    "query = 'search_query=%s&start=%i&max_results=%i' % (search_query,\n",
    "                                                     start,\n",
    "                                                     max_results)\n"
   ]
  },
  {
   "cell_type": "code",
   "execution_count": 85,
   "metadata": {},
   "outputs": [],
   "source": [
    "# Opensearch metadata such as totalResults, startIndex, \n",
    "# and itemsPerPage live in the opensearch namespase.\n",
    "# Some entry metadata lives in the arXiv namespace.\n",
    "# This is a hack to expose both of these namespaces in\n",
    "# feedparser v4.1\n",
    "#feedparser._FeedParserMixin.namespaces['http://a9.com/-/spec/opensearch/1.1/'] = 'opensearch'\n",
    "#feedparser._FeedParserMixin.namespaces['http://arxiv.org/schemas/atom'] = 'arxiv'"
   ]
  },
  {
   "cell_type": "code",
   "execution_count": 86,
   "metadata": {},
   "outputs": [],
   "source": [
    "# perform a GET request using the base_url and query\n",
    "response = urllib.request.urlopen(base_url+query).read()\n",
    "\n",
    "# parse the response using feedparser\n",
    "feed = feedparser.parse(response)"
   ]
  },
  {
   "cell_type": "markdown",
   "metadata": {},
   "source": [
    "#### Feed Information"
   ]
  },
  {
   "cell_type": "code",
   "execution_count": 87,
   "metadata": {},
   "outputs": [
    {
     "name": "stdout",
     "output_type": "stream",
     "text": [
      "Feed title: ArXiv Query: search_query=all:quantum&amp;id_list=&amp;start=0&amp;max_results=5000\n",
      "Feed last updated: 2021-05-27T00:00:00-04:00\n"
     ]
    }
   ],
   "source": [
    "# print out feed information\n",
    "print('Feed title: %s' % feed.feed.title)\n",
    "print('Feed last updated: %s' % feed.feed.updated)"
   ]
  },
  {
   "cell_type": "markdown",
   "metadata": {},
   "source": [
    "#### Metadata"
   ]
  },
  {
   "cell_type": "code",
   "execution_count": 88,
   "metadata": {},
   "outputs": [
    {
     "name": "stdout",
     "output_type": "stream",
     "text": [
      "totalResults for this query: 324135\n",
      "itemsPerPage for this query: 5000\n",
      "startIndex for this query: 0\n"
     ]
    }
   ],
   "source": [
    "# print opensearch metadata\n",
    "print('totalResults for this query: %s' % feed.feed.opensearch_totalresults)\n",
    "print ('itemsPerPage for this query: %s' % feed.feed.opensearch_itemsperpage)\n",
    "print ('startIndex for this query: %s'   % feed.feed.opensearch_startindex)"
   ]
  },
  {
   "cell_type": "markdown",
   "metadata": {},
   "source": [
    "#### Entry by entry"
   ]
  },
  {
   "cell_type": "code",
   "execution_count": 89,
   "metadata": {},
   "outputs": [],
   "source": [
    "DATA = []\n",
    "# Run through each entry, and print out information\n",
    "for entry in feed.entries:\n",
    "    data = {}\n",
    "    data.update({'arxiv-id': entry.id.split('/abs/')[-1]})\n",
    "    data.update({'published': entry.published})\n",
    "    data.update({'title': entry.title})\n",
    "    \n",
    "    \n",
    "    \n",
    "    # feedparser v5.0.1 correctly handles multiple authors, print them all\n",
    "    try:\n",
    "        data.update({'Authors': ', '.join(author.name for author in entry.authors)})\n",
    "    except AttributeError:\n",
    "        pass\n",
    "\n",
    "    \n",
    "    \n",
    "    # get the links to the abs page and pdf for this e-print\n",
    "    for link in entry.links:\n",
    "        if link.rel == 'alternate':\n",
    "            data.update({'abs page link': link.href})\n",
    "        elif link.title == 'pdf':\n",
    "            data.update({'pdf link': link.href})\n",
    "            \n",
    "            \n",
    "    \n",
    "    # The journal reference, comments and primary_category sections live under \n",
    "    # the arxiv namespace\n",
    "    try:\n",
    "        journal_ref = entry.arxiv_journal_ref\n",
    "    except AttributeError:\n",
    "        journal_ref = 'No journal ref found'\n",
    "    data.update({'Journal reference':journal_ref})\n",
    "    \n",
    "    try:\n",
    "        comment = entry.arxiv_comment\n",
    "    except AttributeError:\n",
    "        comment = 'No comment found'\n",
    "    data.update({'Comments': comment})\n",
    "    \n",
    "    \n",
    "    # Since the <arxiv:primary_category> element has no data, only\n",
    "    # attributes, feedparser does not store anything inside\n",
    "    # entry.arxiv_primary_category\n",
    "    # This is a dirty hack to get the primary_category, just take the\n",
    "    # first element in entry.tags.  If anyone knows a better way to do\n",
    "    # this, please email the list!\n",
    "    data.update({'Primary Category': entry.tags[0]['term']})\n",
    "    \n",
    "    # Lets get all the categories\n",
    "    all_categories = [t['term'] for t in entry.tags]\n",
    "    data.update({'All Categories': (', ').join(all_categories)})\n",
    "    \n",
    "    # The abstract is in the <summary> element\n",
    "    data.update({'Abstract': entry.summary})\n",
    "                 \n",
    "    #print(data)\n",
    "    DATA.append(data)\n",
    "    \n",
    "    #print(\"----------------------------------------\")"
   ]
  },
  {
   "cell_type": "code",
   "execution_count": 90,
   "metadata": {},
   "outputs": [],
   "source": [
    "with open (\"arxiv.json\", \"w\")as f:\n",
    "    json.dump(DATA,f)"
   ]
  },
  {
   "cell_type": "code",
   "execution_count": 91,
   "metadata": {},
   "outputs": [],
   "source": [
    "df = pd.DataFrame(DATA)"
   ]
  },
  {
   "cell_type": "code",
   "execution_count": 92,
   "metadata": {
    "scrolled": true
   },
   "outputs": [
    {
     "data": {
      "text/html": [
       "<div>\n",
       "<style scoped>\n",
       "    .dataframe tbody tr th:only-of-type {\n",
       "        vertical-align: middle;\n",
       "    }\n",
       "\n",
       "    .dataframe tbody tr th {\n",
       "        vertical-align: top;\n",
       "    }\n",
       "\n",
       "    .dataframe thead th {\n",
       "        text-align: right;\n",
       "    }\n",
       "</style>\n",
       "<table border=\"1\" class=\"dataframe\">\n",
       "  <thead>\n",
       "    <tr style=\"text-align: right;\">\n",
       "      <th></th>\n",
       "      <th>arxiv-id</th>\n",
       "      <th>published</th>\n",
       "      <th>title</th>\n",
       "      <th>Authors</th>\n",
       "      <th>abs page link</th>\n",
       "      <th>pdf link</th>\n",
       "      <th>Journal reference</th>\n",
       "      <th>Comments</th>\n",
       "      <th>Primary Category</th>\n",
       "      <th>All Categories</th>\n",
       "      <th>Abstract</th>\n",
       "    </tr>\n",
       "  </thead>\n",
       "  <tbody>\n",
       "    <tr>\n",
       "      <th>0</th>\n",
       "      <td>quant-ph/0201082v1</td>\n",
       "      <td>2002-01-18T15:08:05Z</td>\n",
       "      <td>Quantum Computers and Quantum Computer Languag...</td>\n",
       "      <td>Stephen Blaha</td>\n",
       "      <td>http://arxiv.org/abs/quant-ph/0201082v1</td>\n",
       "      <td>http://arxiv.org/pdf/quant-ph/0201082v1</td>\n",
       "      <td>No journal ref found</td>\n",
       "      <td>32 pages</td>\n",
       "      <td>quant-ph</td>\n",
       "      <td>quant-ph, cs.PL</td>\n",
       "      <td>We show a representation of Quantum Computers ...</td>\n",
       "    </tr>\n",
       "    <tr>\n",
       "      <th>1</th>\n",
       "      <td>quant-ph/0407102v1</td>\n",
       "      <td>2004-07-14T14:47:27Z</td>\n",
       "      <td>Quantum Networks for Generating Arbitrary Quan...</td>\n",
       "      <td>Phillip Kaye, Michele Mosca</td>\n",
       "      <td>http://arxiv.org/abs/quant-ph/0407102v1</td>\n",
       "      <td>http://arxiv.org/pdf/quant-ph/0407102v1</td>\n",
       "      <td>Phillip Kaye, Michele Mosca, \"Quantum Networks...</td>\n",
       "      <td>3 pages, 2 figures. This paper previously appe...</td>\n",
       "      <td>quant-ph</td>\n",
       "      <td>quant-ph</td>\n",
       "      <td>Quantum protocols often require the generation...</td>\n",
       "    </tr>\n",
       "    <tr>\n",
       "      <th>2</th>\n",
       "      <td>0804.3401v1</td>\n",
       "      <td>2008-04-21T20:07:38Z</td>\n",
       "      <td>Quantum Computational Complexity</td>\n",
       "      <td>John Watrous</td>\n",
       "      <td>http://arxiv.org/abs/0804.3401v1</td>\n",
       "      <td>http://arxiv.org/pdf/0804.3401v1</td>\n",
       "      <td>No journal ref found</td>\n",
       "      <td>44 pages, 14 figures. To appear in the Springe...</td>\n",
       "      <td>quant-ph</td>\n",
       "      <td>quant-ph</td>\n",
       "      <td>This article surveys quantum computational com...</td>\n",
       "    </tr>\n",
       "    <tr>\n",
       "      <th>3</th>\n",
       "      <td>1311.4939v1</td>\n",
       "      <td>2013-11-20T02:23:12Z</td>\n",
       "      <td>Geometrical perspective on quantum states and ...</td>\n",
       "      <td>Zeqian Chen</td>\n",
       "      <td>http://arxiv.org/abs/1311.4939v1</td>\n",
       "      <td>http://arxiv.org/pdf/1311.4939v1</td>\n",
       "      <td>No journal ref found</td>\n",
       "      <td>4 pages</td>\n",
       "      <td>quant-ph</td>\n",
       "      <td>quant-ph</td>\n",
       "      <td>We interpret quantum computing as a geometric ...</td>\n",
       "    </tr>\n",
       "    <tr>\n",
       "      <th>4</th>\n",
       "      <td>1611.03472v1</td>\n",
       "      <td>2016-11-10T20:30:19Z</td>\n",
       "      <td>Universal Quantum Algorithm</td>\n",
       "      <td>Avatar Tulsi</td>\n",
       "      <td>http://arxiv.org/abs/1611.03472v1</td>\n",
       "      <td>http://arxiv.org/pdf/1611.03472v1</td>\n",
       "      <td>No journal ref found</td>\n",
       "      <td>This is a preliminary draft. Comments are most...</td>\n",
       "      <td>quant-ph</td>\n",
       "      <td>quant-ph</td>\n",
       "      <td>Quantum amplitude amplification and quantum ph...</td>\n",
       "    </tr>\n",
       "  </tbody>\n",
       "</table>\n",
       "</div>"
      ],
      "text/plain": [
       "             arxiv-id             published  \\\n",
       "0  quant-ph/0201082v1  2002-01-18T15:08:05Z   \n",
       "1  quant-ph/0407102v1  2004-07-14T14:47:27Z   \n",
       "2         0804.3401v1  2008-04-21T20:07:38Z   \n",
       "3         1311.4939v1  2013-11-20T02:23:12Z   \n",
       "4        1611.03472v1  2016-11-10T20:30:19Z   \n",
       "\n",
       "                                               title  \\\n",
       "0  Quantum Computers and Quantum Computer Languag...   \n",
       "1  Quantum Networks for Generating Arbitrary Quan...   \n",
       "2                   Quantum Computational Complexity   \n",
       "3  Geometrical perspective on quantum states and ...   \n",
       "4                        Universal Quantum Algorithm   \n",
       "\n",
       "                       Authors                            abs page link  \\\n",
       "0                Stephen Blaha  http://arxiv.org/abs/quant-ph/0201082v1   \n",
       "1  Phillip Kaye, Michele Mosca  http://arxiv.org/abs/quant-ph/0407102v1   \n",
       "2                 John Watrous         http://arxiv.org/abs/0804.3401v1   \n",
       "3                  Zeqian Chen         http://arxiv.org/abs/1311.4939v1   \n",
       "4                 Avatar Tulsi        http://arxiv.org/abs/1611.03472v1   \n",
       "\n",
       "                                  pdf link  \\\n",
       "0  http://arxiv.org/pdf/quant-ph/0201082v1   \n",
       "1  http://arxiv.org/pdf/quant-ph/0407102v1   \n",
       "2         http://arxiv.org/pdf/0804.3401v1   \n",
       "3         http://arxiv.org/pdf/1311.4939v1   \n",
       "4        http://arxiv.org/pdf/1611.03472v1   \n",
       "\n",
       "                                   Journal reference  \\\n",
       "0                               No journal ref found   \n",
       "1  Phillip Kaye, Michele Mosca, \"Quantum Networks...   \n",
       "2                               No journal ref found   \n",
       "3                               No journal ref found   \n",
       "4                               No journal ref found   \n",
       "\n",
       "                                            Comments Primary Category  \\\n",
       "0                                           32 pages         quant-ph   \n",
       "1  3 pages, 2 figures. This paper previously appe...         quant-ph   \n",
       "2  44 pages, 14 figures. To appear in the Springe...         quant-ph   \n",
       "3                                            4 pages         quant-ph   \n",
       "4  This is a preliminary draft. Comments are most...         quant-ph   \n",
       "\n",
       "    All Categories                                           Abstract  \n",
       "0  quant-ph, cs.PL  We show a representation of Quantum Computers ...  \n",
       "1         quant-ph  Quantum protocols often require the generation...  \n",
       "2         quant-ph  This article surveys quantum computational com...  \n",
       "3         quant-ph  We interpret quantum computing as a geometric ...  \n",
       "4         quant-ph  Quantum amplitude amplification and quantum ph...  "
      ]
     },
     "execution_count": 92,
     "metadata": {},
     "output_type": "execute_result"
    }
   ],
   "source": [
    "df.head()"
   ]
  },
  {
   "cell_type": "code",
   "execution_count": 93,
   "metadata": {},
   "outputs": [],
   "source": [
    "df.to_csv(\"arxiv.csv\")"
   ]
  },
  {
   "cell_type": "code",
   "execution_count": 94,
   "metadata": {},
   "outputs": [
    {
     "data": {
      "text/plain": [
       "(5000, 11)"
      ]
     },
     "execution_count": 94,
     "metadata": {},
     "output_type": "execute_result"
    }
   ],
   "source": [
    "df.shape"
   ]
  },
  {
   "cell_type": "code",
   "execution_count": null,
   "metadata": {},
   "outputs": [],
   "source": []
  },
  {
   "cell_type": "code",
   "execution_count": null,
   "metadata": {},
   "outputs": [],
   "source": []
  },
  {
   "cell_type": "code",
   "execution_count": null,
   "metadata": {},
   "outputs": [],
   "source": []
  }
 ],
 "metadata": {
  "kernelspec": {
   "display_name": "Python 3",
   "language": "python",
   "name": "python3"
  },
  "language_info": {
   "codemirror_mode": {
    "name": "ipython",
    "version": 3
   },
   "file_extension": ".py",
   "mimetype": "text/x-python",
   "name": "python",
   "nbconvert_exporter": "python",
   "pygments_lexer": "ipython3",
   "version": "3.6.6"
  }
 },
 "nbformat": 4,
 "nbformat_minor": 2
}
