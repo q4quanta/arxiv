{
 "cells": [
  {
   "cell_type": "markdown",
   "metadata": {},
   "source": [
    "## ArxiveAPI"
   ]
  },
  {
   "cell_type": "code",
   "execution_count": 6,
   "metadata": {},
   "outputs": [],
   "source": [
    "import re\n",
    "import itertools\n",
    "import json\n",
    "import sys\n",
    "import os\n",
    "import time\n",
    "import traceback\n",
    "from lxml import etree\n",
    "import pandas as pd\n",
    "import glob\n",
    "import numpy as np"
   ]
  },
  {
   "cell_type": "code",
   "execution_count": 25,
   "metadata": {},
   "outputs": [],
   "source": [
    " import xml.etree.ElementTree as ET"
   ]
  },
  {
   "cell_type": "markdown",
   "metadata": {},
   "source": [
    "### Get to know"
   ]
  },
  {
   "cell_type": "code",
   "execution_count": 11,
   "metadata": {
    "scrolled": false
   },
   "outputs": [],
   "source": [
    "import urllib, urllib.request\n",
    "url = 'http://export.arxiv.org/api/query?search_query=all:quantum&start=0&max_results=2'\n",
    "data = urllib.request.urlopen(url)\n",
    "f = data.read().decode('utf-8')\n",
    "#print(f)"
   ]
  },
  {
   "cell_type": "code",
   "execution_count": 26,
   "metadata": {},
   "outputs": [],
   "source": [
    "import urllib.request as libreq\n",
    "urlx = 'http://export.arxiv.org/api/query?search_query=all:quantum&start=0&max_results=1'\n",
    "with libreq.urlopen(urlx) as url:\n",
    "    response = url.read()\n",
    "    tree = ET.fromstring(response)\n",
    "    for docTitle in tree.findall(\".//title\"):\n",
    "        print(docTitle.text)"
   ]
  },
  {
   "cell_type": "code",
   "execution_count": 29,
   "metadata": {},
   "outputs": [],
   "source": [
    "#!pip install feedparser"
   ]
  },
  {
   "cell_type": "markdown",
   "metadata": {},
   "source": [
    "### Systematic Parsing"
   ]
  },
  {
   "cell_type": "markdown",
   "metadata": {},
   "source": [
    "python_arXiv_parsing_example.py\n",
    "\n",
    "This sample script illustrates a basic ```arXiv api``` call\n",
    "followed by parsing of the results using the \n",
    "feedparser python module.\n",
    "\n",
    "Please see the documentation at \n",
    "http://export.arxiv.org/api_help/docs/user-manual.html\n",
    "for more information, or email the arXiv api \n",
    "mailing list at arxiv-api@googlegroups.com.\n",
    "\n",
    "urllib is included in the standard python library.\n",
    "feedparser can be downloaded from http://feedparser.org/ .\n",
    "\n",
    "*Author: Julius B. Lucks*\n",
    "\n",
    "This is free software.  Feel free to do what you want\n",
    "with it, but please play nice with the arXiv API!"
   ]
  },
  {
   "cell_type": "markdown",
   "metadata": {},
   "source": [
    "https://static.arxiv.org/static/arxiv.marxdown/0.1/help/api/examples/python_arXiv_parsing_example.txt"
   ]
  },
  {
   "cell_type": "code",
   "execution_count": 35,
   "metadata": {},
   "outputs": [],
   "source": [
    "import urllib\n",
    "import feedparser"
   ]
  },
  {
   "cell_type": "code",
   "execution_count": 36,
   "metadata": {},
   "outputs": [],
   "source": [
    "# Base api query url\n",
    "base_url = 'http://export.arxiv.org/api/query?';\n",
    "\n",
    "# Search parameters\n",
    "search_query = 'all:quantum' # search for electron in all fields\n",
    "start = 0                     # retreive the first 5 results\n",
    "max_results = 5\n",
    "\n",
    "query = 'search_query=%s&start=%i&max_results=%i' % (search_query,\n",
    "                                                     start,\n",
    "                                                     max_results)\n"
   ]
  },
  {
   "cell_type": "code",
   "execution_count": 43,
   "metadata": {},
   "outputs": [],
   "source": [
    "# Opensearch metadata such as totalResults, startIndex, \n",
    "# and itemsPerPage live in the opensearch namespase.\n",
    "# Some entry metadata lives in the arXiv namespace.\n",
    "# This is a hack to expose both of these namespaces in\n",
    "# feedparser v4.1\n",
    "#feedparser._FeedParserMixin.namespaces['http://a9.com/-/spec/opensearch/1.1/'] = 'opensearch'\n",
    "#feedparser._FeedParserMixin.namespaces['http://arxiv.org/schemas/atom'] = 'arxiv'"
   ]
  },
  {
   "cell_type": "code",
   "execution_count": 39,
   "metadata": {},
   "outputs": [],
   "source": [
    "# perform a GET request using the base_url and query\n",
    "response = urllib.request.urlopen(base_url+query).read()\n",
    "\n",
    "# parse the response using feedparser\n",
    "feed = feedparser.parse(response)"
   ]
  },
  {
   "cell_type": "markdown",
   "metadata": {},
   "source": [
    "#### Feed Information"
   ]
  },
  {
   "cell_type": "code",
   "execution_count": 40,
   "metadata": {},
   "outputs": [
    {
     "name": "stdout",
     "output_type": "stream",
     "text": [
      "Feed title: ArXiv Query: search_query=all:quantum&amp;id_list=&amp;start=0&amp;max_results=5\n",
      "Feed last updated: 2021-05-27T00:00:00-04:00\n"
     ]
    }
   ],
   "source": [
    "# print out feed information\n",
    "print('Feed title: %s' % feed.feed.title)\n",
    "print('Feed last updated: %s' % feed.feed.updated)"
   ]
  },
  {
   "cell_type": "markdown",
   "metadata": {},
   "source": [
    "#### Metadata"
   ]
  },
  {
   "cell_type": "code",
   "execution_count": 41,
   "metadata": {},
   "outputs": [
    {
     "name": "stdout",
     "output_type": "stream",
     "text": [
      "totalResults for this query: 324135\n",
      "itemsPerPage for this query: 5\n",
      "startIndex for this query: 0\n"
     ]
    }
   ],
   "source": [
    "# print opensearch metadata\n",
    "print('totalResults for this query: %s' % feed.feed.opensearch_totalresults)\n",
    "print ('itemsPerPage for this query: %s' % feed.feed.opensearch_itemsperpage)\n",
    "print ('startIndex for this query: %s'   % feed.feed.opensearch_startindex)"
   ]
  },
  {
   "cell_type": "markdown",
   "metadata": {},
   "source": [
    "#### Entry by entry"
   ]
  },
  {
   "cell_type": "code",
   "execution_count": 45,
   "metadata": {},
   "outputs": [
    {
     "name": "stdout",
     "output_type": "stream",
     "text": [
      "e-print metadata\n",
      "arxiv-id: quant-ph/0201082v1\n",
      "Published: 2002-01-18T15:08:05Z\n",
      "Title:  Quantum Computers and Quantum Computer Languages: Quantum Assembly\n",
      "  Language and Quantum C Language\n",
      "Last Author:  Stephen Blaha\n",
      "Authors:  Stephen Blaha\n",
      "abs page link: http://arxiv.org/abs/quant-ph/0201082v1\n",
      "pdf link: http://arxiv.org/pdf/quant-ph/0201082v1\n",
      "Journal reference: No journal ref found\n",
      "Comments: 32 pages\n",
      "Primary Category: quant-ph\n",
      "All Categories: quant-ph, cs.PL\n",
      "Abstract: We show a representation of Quantum Computers defines Quantum Turing Machines\n",
      "with associated Quantum Grammars. We then create examples of Quantum Grammars.\n",
      "Lastly we develop an algebraic approach to high level Quantum Languages using\n",
      "Quantum Assembly language and Quantum C language as examples.\n",
      "----------------------------------------\n",
      "e-print metadata\n",
      "arxiv-id: quant-ph/0407102v1\n",
      "Published: 2004-07-14T14:47:27Z\n",
      "Title:  Quantum Networks for Generating Arbitrary Quantum States\n",
      "Last Author:  Michele Mosca\n",
      "Authors:  Phillip Kaye, Michele Mosca\n",
      "abs page link: http://arxiv.org/abs/quant-ph/0407102v1\n",
      "pdf link: http://arxiv.org/pdf/quant-ph/0407102v1\n",
      "Journal reference: Phillip Kaye, Michele Mosca, \"Quantum Networks for Generating\n",
      "  Arbitrary Quantum States\", Proceedings, International Conference on Quantum\n",
      "  Information (ICQI). Rochester, New York, USA, 2001\n",
      "Comments: 3 pages, 2 figures. This paper previously appeared in: Proceedings,\n",
      "  International Conference on Quantum Information (ICQI). Rochester, New York,\n",
      "  USA, 2001\n",
      "Primary Category: quant-ph\n",
      "All Categories: quant-ph\n",
      "Abstract: Quantum protocols often require the generation of specific quantum states. We\n",
      "describe a quantum algorithm for generating any prescribed quantum state. For\n",
      "an important subclass of states, including pure symmetric states, this\n",
      "algorithm is efficient.\n",
      "----------------------------------------\n",
      "e-print metadata\n",
      "arxiv-id: 0804.3401v1\n",
      "Published: 2008-04-21T20:07:38Z\n",
      "Title:  Quantum Computational Complexity\n",
      "Last Author:  John Watrous\n",
      "Authors:  John Watrous\n",
      "abs page link: http://arxiv.org/abs/0804.3401v1\n",
      "pdf link: http://arxiv.org/pdf/0804.3401v1\n",
      "Journal reference: No journal ref found\n",
      "Comments: 44 pages, 14 figures. To appear in the Springer Encyclopedia of\n",
      "  Complexity and Systems Science\n",
      "Primary Category: quant-ph\n",
      "All Categories: quant-ph\n",
      "Abstract: This article surveys quantum computational complexity, with a focus on three\n",
      "fundamental notions: polynomial-time quantum computations, the efficient\n",
      "verification of quantum proofs, and quantum interactive proof systems.\n",
      "Properties of quantum complexity classes based on these notions, such as BQP,\n",
      "QMA, and QIP, are presented. Other topics in quantum complexity, including\n",
      "quantum advice, space-bounded quantum computation, and bounded-depth quantum\n",
      "circuits, are also discussed.\n",
      "----------------------------------------\n",
      "e-print metadata\n",
      "arxiv-id: 1311.4939v1\n",
      "Published: 2013-11-20T02:23:12Z\n",
      "Title:  Geometrical perspective on quantum states and quantum computation\n",
      "Last Author:  Zeqian Chen\n",
      "Authors:  Zeqian Chen\n",
      "abs page link: http://arxiv.org/abs/1311.4939v1\n",
      "pdf link: http://arxiv.org/pdf/1311.4939v1\n",
      "Journal reference: No journal ref found\n",
      "Comments: 4 pages\n",
      "Primary Category: quant-ph\n",
      "All Categories: quant-ph\n",
      "Abstract: We interpret quantum computing as a geometric evolution process by\n",
      "reformulating finite quantum systems via Connes' noncommutative geometry. In\n",
      "this formulation, quantum states are represented as noncommutative connections,\n",
      "while gauge transformations on the connections play a role of unitary quantum\n",
      "operations. Thereby, a geometrical model for quantum computation is presented,\n",
      "which is equivalent to the quantum circuit model. This result shows a geometric\n",
      "way of realizing quantum computing and as such, provides an alternative\n",
      "proposal of building a quantum computer.\n",
      "----------------------------------------\n",
      "e-print metadata\n",
      "arxiv-id: 1611.03472v1\n",
      "Published: 2016-11-10T20:30:19Z\n",
      "Title:  Universal Quantum Algorithm\n",
      "Last Author:  Avatar Tulsi\n",
      "Authors:  Avatar Tulsi\n",
      "abs page link: http://arxiv.org/abs/1611.03472v1\n",
      "pdf link: http://arxiv.org/pdf/1611.03472v1\n",
      "Journal reference: No journal ref found\n",
      "Comments: This is a preliminary draft. Comments are most welcome\n",
      "Primary Category: quant-ph\n",
      "All Categories: quant-ph\n",
      "Abstract: Quantum amplitude amplification and quantum phase estimation are two\n",
      "fundamental quantum algorithms. All known quantum algorithms are derived from\n",
      "these two algorithms. Even the adiabatic quantum algorithms can also be\n",
      "efficiently simulated using quantum phase estimation. We present a universal\n",
      "quantum algorithm which explains these two algorithms as special cases. An\n",
      "interesting result is that we do not need quantum fourier transform to do\n",
      "quantum phase estimation.\n",
      "----------------------------------------\n"
     ]
    }
   ],
   "source": [
    "# Run through each entry, and print out information\n",
    "for entry in feed.entries:\n",
    "    print ('e-print metadata')\n",
    "    print ('arxiv-id: %s' % entry.id.split('/abs/')[-1])\n",
    "    print ('Published: %s' % entry.published)\n",
    "    print ('Title:  %s' % entry.title)\n",
    "    \n",
    "    # feedparser v4.1 only grabs the first author\n",
    "    author_string = entry.author\n",
    "    \n",
    "    # grab the affiliation in <arxiv:affiliation> if present\n",
    "    # - this will only grab the first affiliation encountered\n",
    "    #   (the first affiliation for the first author)\n",
    "    # Please email the list with a way to get all of this information!\n",
    "    try:\n",
    "        author_string += ' (%s)' % entry.arxiv_affiliation\n",
    "    except AttributeError:\n",
    "        pass\n",
    "    \n",
    "    print ('Last Author:  %s' % author_string)\n",
    "    \n",
    "    # feedparser v5.0.1 correctly handles multiple authors, print them all\n",
    "    try:\n",
    "        print ('Authors:  %s' % ', '.join(author.name for author in entry.authors))\n",
    "    except AttributeError:\n",
    "        pass\n",
    "\n",
    "    # get the links to the abs page and pdf for this e-print\n",
    "    for link in entry.links:\n",
    "        if link.rel == 'alternate':\n",
    "            print ('abs page link: %s' % link.href)\n",
    "        elif link.title == 'pdf':\n",
    "            print ('pdf link: %s' % link.href)\n",
    "    \n",
    "    # The journal reference, comments and primary_category sections live under \n",
    "    # the arxiv namespace\n",
    "    try:\n",
    "        journal_ref = entry.arxiv_journal_ref\n",
    "    except AttributeError:\n",
    "        journal_ref = 'No journal ref found'\n",
    "    print ('Journal reference: %s' % journal_ref)\n",
    "    \n",
    "    try:\n",
    "        comment = entry.arxiv_comment\n",
    "    except AttributeError:\n",
    "        comment = 'No comment found'\n",
    "    print ('Comments: %s' % comment)\n",
    "    \n",
    "    # Since the <arxiv:primary_category> element has no data, only\n",
    "    # attributes, feedparser does not store anything inside\n",
    "    # entry.arxiv_primary_category\n",
    "    # This is a dirty hack to get the primary_category, just take the\n",
    "    # first element in entry.tags.  If anyone knows a better way to do\n",
    "    # this, please email the list!\n",
    "    print ('Primary Category: %s' % entry.tags[0]['term'])\n",
    "    \n",
    "    # Lets get all the categories\n",
    "    all_categories = [t['term'] for t in entry.tags]\n",
    "    print ( 'All Categories: %s' % (', ').join(all_categories))\n",
    "    \n",
    "    # The abstract is in the <summary> element\n",
    "    print ('Abstract: %s' %  entry.summary)\n",
    "    \n",
    "    print(\"----------------------------------------\")"
   ]
  },
  {
   "cell_type": "markdown",
   "metadata": {},
   "source": [
    "### Data Parser"
   ]
  },
  {
   "cell_type": "code",
   "execution_count": 48,
   "metadata": {},
   "outputs": [
    {
     "name": "stdout",
     "output_type": "stream",
     "text": [
      "{'arxiv-id': 'quant-ph/0201082v1', 'published': '2002-01-18T15:08:05Z', 'title': 'Quantum Computers and Quantum Computer Languages: Quantum Assembly\\n  Language and Quantum C Language', 'Authors': 'Stephen Blaha', 'abs page link': 'http://arxiv.org/abs/quant-ph/0201082v1', 'pdf link': 'http://arxiv.org/pdf/quant-ph/0201082v1', 'Journal reference': 'No journal ref found', 'Comments': '32 pages', 'Primary Category': 'quant-ph', 'All Categories': 'quant-ph, cs.PL', 'Abstract': 'We show a representation of Quantum Computers defines Quantum Turing Machines\\nwith associated Quantum Grammars. We then create examples of Quantum Grammars.\\nLastly we develop an algebraic approach to high level Quantum Languages using\\nQuantum Assembly language and Quantum C language as examples.'}\n",
      "----------------------------------------\n",
      "{'arxiv-id': 'quant-ph/0407102v1', 'published': '2004-07-14T14:47:27Z', 'title': 'Quantum Networks for Generating Arbitrary Quantum States', 'Authors': 'Phillip Kaye, Michele Mosca', 'abs page link': 'http://arxiv.org/abs/quant-ph/0407102v1', 'pdf link': 'http://arxiv.org/pdf/quant-ph/0407102v1', 'Journal reference': 'Phillip Kaye, Michele Mosca, \"Quantum Networks for Generating\\n  Arbitrary Quantum States\", Proceedings, International Conference on Quantum\\n  Information (ICQI). Rochester, New York, USA, 2001', 'Comments': '3 pages, 2 figures. This paper previously appeared in: Proceedings,\\n  International Conference on Quantum Information (ICQI). Rochester, New York,\\n  USA, 2001', 'Primary Category': 'quant-ph', 'All Categories': 'quant-ph', 'Abstract': 'Quantum protocols often require the generation of specific quantum states. We\\ndescribe a quantum algorithm for generating any prescribed quantum state. For\\nan important subclass of states, including pure symmetric states, this\\nalgorithm is efficient.'}\n",
      "----------------------------------------\n",
      "{'arxiv-id': '0804.3401v1', 'published': '2008-04-21T20:07:38Z', 'title': 'Quantum Computational Complexity', 'Authors': 'John Watrous', 'abs page link': 'http://arxiv.org/abs/0804.3401v1', 'pdf link': 'http://arxiv.org/pdf/0804.3401v1', 'Journal reference': 'No journal ref found', 'Comments': '44 pages, 14 figures. To appear in the Springer Encyclopedia of\\n  Complexity and Systems Science', 'Primary Category': 'quant-ph', 'All Categories': 'quant-ph', 'Abstract': 'This article surveys quantum computational complexity, with a focus on three\\nfundamental notions: polynomial-time quantum computations, the efficient\\nverification of quantum proofs, and quantum interactive proof systems.\\nProperties of quantum complexity classes based on these notions, such as BQP,\\nQMA, and QIP, are presented. Other topics in quantum complexity, including\\nquantum advice, space-bounded quantum computation, and bounded-depth quantum\\ncircuits, are also discussed.'}\n",
      "----------------------------------------\n",
      "{'arxiv-id': '1311.4939v1', 'published': '2013-11-20T02:23:12Z', 'title': 'Geometrical perspective on quantum states and quantum computation', 'Authors': 'Zeqian Chen', 'abs page link': 'http://arxiv.org/abs/1311.4939v1', 'pdf link': 'http://arxiv.org/pdf/1311.4939v1', 'Journal reference': 'No journal ref found', 'Comments': '4 pages', 'Primary Category': 'quant-ph', 'All Categories': 'quant-ph', 'Abstract': \"We interpret quantum computing as a geometric evolution process by\\nreformulating finite quantum systems via Connes' noncommutative geometry. In\\nthis formulation, quantum states are represented as noncommutative connections,\\nwhile gauge transformations on the connections play a role of unitary quantum\\noperations. Thereby, a geometrical model for quantum computation is presented,\\nwhich is equivalent to the quantum circuit model. This result shows a geometric\\nway of realizing quantum computing and as such, provides an alternative\\nproposal of building a quantum computer.\"}\n",
      "----------------------------------------\n",
      "{'arxiv-id': '1611.03472v1', 'published': '2016-11-10T20:30:19Z', 'title': 'Universal Quantum Algorithm', 'Authors': 'Avatar Tulsi', 'abs page link': 'http://arxiv.org/abs/1611.03472v1', 'pdf link': 'http://arxiv.org/pdf/1611.03472v1', 'Journal reference': 'No journal ref found', 'Comments': 'This is a preliminary draft. Comments are most welcome', 'Primary Category': 'quant-ph', 'All Categories': 'quant-ph', 'Abstract': 'Quantum amplitude amplification and quantum phase estimation are two\\nfundamental quantum algorithms. All known quantum algorithms are derived from\\nthese two algorithms. Even the adiabatic quantum algorithms can also be\\nefficiently simulated using quantum phase estimation. We present a universal\\nquantum algorithm which explains these two algorithms as special cases. An\\ninteresting result is that we do not need quantum fourier transform to do\\nquantum phase estimation.'}\n",
      "----------------------------------------\n"
     ]
    }
   ],
   "source": [
    "DATA = []\n",
    "# Run through each entry, and print out information\n",
    "for entry in feed.entries:\n",
    "    data = {}\n",
    "    data.update({'arxiv-id': entry.id.split('/abs/')[-1]})\n",
    "    data.update({'published': entry.published})\n",
    "    data.update({'title': entry.title})\n",
    "    \n",
    "    \n",
    "    \n",
    "    # feedparser v5.0.1 correctly handles multiple authors, print them all\n",
    "    try:\n",
    "        data.update({'Authors': ', '.join(author.name for author in entry.authors)})\n",
    "    except AttributeError:\n",
    "        pass\n",
    "\n",
    "    \n",
    "    \n",
    "    # get the links to the abs page and pdf for this e-print\n",
    "    for link in entry.links:\n",
    "        if link.rel == 'alternate':\n",
    "            data.update({'abs page link': link.href})\n",
    "        elif link.title == 'pdf':\n",
    "            data.update({'pdf link': link.href})\n",
    "            \n",
    "            \n",
    "    \n",
    "    # The journal reference, comments and primary_category sections live under \n",
    "    # the arxiv namespace\n",
    "    try:\n",
    "        journal_ref = entry.arxiv_journal_ref\n",
    "    except AttributeError:\n",
    "        journal_ref = 'No journal ref found'\n",
    "    data.update({'Journal reference':journal_ref})\n",
    "    \n",
    "    try:\n",
    "        comment = entry.arxiv_comment\n",
    "    except AttributeError:\n",
    "        comment = 'No comment found'\n",
    "    data.update({'Comments': comment})\n",
    "    \n",
    "    \n",
    "    # Since the <arxiv:primary_category> element has no data, only\n",
    "    # attributes, feedparser does not store anything inside\n",
    "    # entry.arxiv_primary_category\n",
    "    # This is a dirty hack to get the primary_category, just take the\n",
    "    # first element in entry.tags.  If anyone knows a better way to do\n",
    "    # this, please email the list!\n",
    "    data.update({'Primary Category': entry.tags[0]['term']})\n",
    "    \n",
    "    # Lets get all the categories\n",
    "    all_categories = [t['term'] for t in entry.tags]\n",
    "    data.update({'All Categories': (', ').join(all_categories)})\n",
    "    \n",
    "    # The abstract is in the <summary> element\n",
    "    data.update({'Abstract': entry.summary})\n",
    "                 \n",
    "    print(data)\n",
    "    DATA.append(data)\n",
    "    \n",
    "    print(\"----------------------------------------\")"
   ]
  },
  {
   "cell_type": "code",
   "execution_count": null,
   "metadata": {},
   "outputs": [],
   "source": []
  },
  {
   "cell_type": "code",
   "execution_count": null,
   "metadata": {},
   "outputs": [],
   "source": []
  },
  {
   "cell_type": "code",
   "execution_count": null,
   "metadata": {},
   "outputs": [],
   "source": []
  },
  {
   "cell_type": "code",
   "execution_count": null,
   "metadata": {},
   "outputs": [],
   "source": []
  }
 ],
 "metadata": {
  "kernelspec": {
   "display_name": "Python 3",
   "language": "python",
   "name": "python3"
  },
  "language_info": {
   "codemirror_mode": {
    "name": "ipython",
    "version": 3
   },
   "file_extension": ".py",
   "mimetype": "text/x-python",
   "name": "python",
   "nbconvert_exporter": "python",
   "pygments_lexer": "ipython3",
   "version": "3.6.6"
  }
 },
 "nbformat": 4,
 "nbformat_minor": 2
}
